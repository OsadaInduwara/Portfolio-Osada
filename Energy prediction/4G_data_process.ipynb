{
 "cells": [
  {
   "cell_type": "code",
   "execution_count": 2,
   "id": "e4181c1e",
   "metadata": {},
   "outputs": [],
   "source": [
    "import pandas as pd \n",
    "import numpy as np\n",
    "\n",
    "data_traffic_4g=pd.read_csv('../data/raw/latest-2022-12/sitewise_volumes_dec_2022.csv')"
   ]
  },
  {
   "cell_type": "code",
   "execution_count": 25,
   "id": "029c9ee1",
   "metadata": {},
   "outputs": [],
   "source": [
    "# import pandas as pd\n",
    "\n",
    "# # Convert the timestamp to a datetime format\n",
    "# all4gcustomhourlyap['time_key'] = pd.to_datetime(all4gcustomhourlyap['time_key'], format='%Y-%m-%d %H-%M')\n",
    "\n",
    "# newest_date = all4gcustomhourlyap['time_key'].max()\n",
    "# oldest_date = all4gcustomhourlyap['time_key'].min()\n",
    "\n",
    "# # Print the results\n",
    "# print(\"Newest date:\", newest_date)\n",
    "# print(\"Oldest date:\", oldest_date)\n"
   ]
  },
  {
   "cell_type": "code",
   "execution_count": null,
   "id": "afceb700",
   "metadata": {},
   "outputs": [],
   "source": [
    "data_traffic_4g"
   ]
  },
  {
   "cell_type": "code",
   "execution_count": 3,
   "id": "2bb3c1a7",
   "metadata": {},
   "outputs": [],
   "source": [
    "data_traffic_4g = data_traffic_4g.rename(columns={'total_dl': 'dltrafficvolume(gb)(gb)','total_ul': 'ultrafficvolume(gb)(gb)'})\n",
    "data_traffic_4g=data_traffic_4g[['site_id','date','hour','dltrafficvolume(gb)(gb)','ultrafficvolume(gb)(gb)']]\n",
    "data_traffic_4g = data_traffic_4g.rename(columns={'site_id': 'Site_Id'})\n",
    "data_traffic_4g = data_traffic_4g.rename(columns={'date': 'Date','hour':'Hour'})\n"
   ]
  },
  {
   "cell_type": "code",
   "execution_count": 4,
   "id": "781f8c83",
   "metadata": {},
   "outputs": [],
   "source": [
    "data_traffic_4g = data_traffic_4g.groupby(['Site_Id','Date','Hour']).sum()\n",
    "data_traffic_4g=data_traffic_4g.reset_index()"
   ]
  },
  {
   "cell_type": "code",
   "execution_count": 5,
   "id": "c6062d22",
   "metadata": {},
   "outputs": [],
   "source": [
    "data_traffic_4g['Date'] = pd.to_datetime(data_traffic_4g['Date'], format='%Y-%m-%d')\n",
    "data_traffic_4g['Time_Key'] = data_traffic_4g.apply(lambda row: int(row['Date'].strftime('%Y%m%d') + str(row['Hour']).zfill(2)), axis=1)\n"
   ]
  },
  {
   "cell_type": "code",
   "execution_count": 6,
   "id": "34c69951",
   "metadata": {},
   "outputs": [],
   "source": [
    "data_traffic_4g=data_traffic_4g[['Site_Id','Time_Key','dltrafficvolume(gb)(gb)','ultrafficvolume(gb)(gb)']]"
   ]
  },
  {
   "cell_type": "markdown",
   "id": "3e20af40",
   "metadata": {},
   "source": [
    "## Target file format"
   ]
  },
  {
   "cell_type": "code",
   "execution_count": 1,
   "id": "ca11718b",
   "metadata": {},
   "outputs": [
    {
     "ename": "NameError",
     "evalue": "name 'data_traffic_4g' is not defined",
     "output_type": "error",
     "traceback": [
      "\u001b[1;31m---------------------------------------------------------------------------\u001b[0m",
      "\u001b[1;31mNameError\u001b[0m                                 Traceback (most recent call last)",
      "\u001b[1;32m~\\AppData\\Local\\Temp/ipykernel_13064/2496628131.py\u001b[0m in \u001b[0;36m<module>\u001b[1;34m\u001b[0m\n\u001b[1;32m----> 1\u001b[1;33m \u001b[0mdata_traffic_4g\u001b[0m\u001b[1;33m\u001b[0m\u001b[1;33m\u001b[0m\u001b[0m\n\u001b[0m",
      "\u001b[1;31mNameError\u001b[0m: name 'data_traffic_4g' is not defined"
     ]
    }
   ],
   "source": [
    "data_traffic_4g"
   ]
  },
  {
   "cell_type": "code",
   "execution_count": 10,
   "id": "afedf97a",
   "metadata": {},
   "outputs": [],
   "source": [
    "all4gcustomhourlyap=pd.read_csv('../data/raw/all4gcustomhourlyap/all4gcustomhourlyap_2022-12.csv')"
   ]
  },
  {
   "cell_type": "code",
   "execution_count": 11,
   "id": "a22da934",
   "metadata": {},
   "outputs": [],
   "source": [
    "all4gcustomhourlyap=all4gcustomhourlyap.rename(columns={'site_id':'Site_Id','ref.l.thrp.gbytes.d':'dltrafficvolume(gb)(gb)','ref.l.thrp.gbytes.ul':'ultrafficvolume(gb)(gb)'})"
   ]
  },
  {
   "cell_type": "code",
   "execution_count": 12,
   "id": "c731f656",
   "metadata": {
    "scrolled": true
   },
   "outputs": [
    {
     "data": {
      "text/html": [
       "<div>\n",
       "<style scoped>\n",
       "    .dataframe tbody tr th:only-of-type {\n",
       "        vertical-align: middle;\n",
       "    }\n",
       "\n",
       "    .dataframe tbody tr th {\n",
       "        vertical-align: top;\n",
       "    }\n",
       "\n",
       "    .dataframe thead th {\n",
       "        text-align: right;\n",
       "    }\n",
       "</style>\n",
       "<table border=\"1\" class=\"dataframe\">\n",
       "  <thead>\n",
       "    <tr style=\"text-align: right;\">\n",
       "      <th></th>\n",
       "      <th>Site_Id</th>\n",
       "      <th>dltrafficvolume(gb)(gb)</th>\n",
       "      <th>ultrafficvolume(gb)(gb)</th>\n",
       "      <th>time_key</th>\n",
       "    </tr>\n",
       "  </thead>\n",
       "  <tbody>\n",
       "    <tr>\n",
       "      <th>0</th>\n",
       "      <td>KL5031</td>\n",
       "      <td>1.429519</td>\n",
       "      <td>0.329103</td>\n",
       "      <td>2022-12-26 14-00</td>\n",
       "    </tr>\n",
       "    <tr>\n",
       "      <th>1</th>\n",
       "      <td>KL5031</td>\n",
       "      <td>0.484073</td>\n",
       "      <td>0.074609</td>\n",
       "      <td>2022-12-26 14-00</td>\n",
       "    </tr>\n",
       "    <tr>\n",
       "      <th>2</th>\n",
       "      <td>KL5031</td>\n",
       "      <td>0.461909</td>\n",
       "      <td>0.051542</td>\n",
       "      <td>2022-12-26 14-00</td>\n",
       "    </tr>\n",
       "    <tr>\n",
       "      <th>3</th>\n",
       "      <td>KL5031</td>\n",
       "      <td>1.916478</td>\n",
       "      <td>0.265258</td>\n",
       "      <td>2022-12-26 14-00</td>\n",
       "    </tr>\n",
       "    <tr>\n",
       "      <th>4</th>\n",
       "      <td>KL5031</td>\n",
       "      <td>1.599747</td>\n",
       "      <td>0.242206</td>\n",
       "      <td>2022-12-26 14-00</td>\n",
       "    </tr>\n",
       "    <tr>\n",
       "      <th>...</th>\n",
       "      <td>...</td>\n",
       "      <td>...</td>\n",
       "      <td>...</td>\n",
       "      <td>...</td>\n",
       "    </tr>\n",
       "    <tr>\n",
       "      <th>55287026</th>\n",
       "      <td>GM0836</td>\n",
       "      <td>0.000000</td>\n",
       "      <td>0.000000</td>\n",
       "      <td>2022-12-01 04-00</td>\n",
       "    </tr>\n",
       "    <tr>\n",
       "      <th>55287027</th>\n",
       "      <td>PU0023</td>\n",
       "      <td>0.000000</td>\n",
       "      <td>0.000000</td>\n",
       "      <td>2022-12-01 04-00</td>\n",
       "    </tr>\n",
       "    <tr>\n",
       "      <th>55287028</th>\n",
       "      <td>PU0023</td>\n",
       "      <td>0.000000</td>\n",
       "      <td>0.000000</td>\n",
       "      <td>2022-12-01 04-00</td>\n",
       "    </tr>\n",
       "    <tr>\n",
       "      <th>55287029</th>\n",
       "      <td>CM0193</td>\n",
       "      <td>0.000000</td>\n",
       "      <td>0.000000</td>\n",
       "      <td>2022-12-01 04-00</td>\n",
       "    </tr>\n",
       "    <tr>\n",
       "      <th>55287030</th>\n",
       "      <td>JA0131</td>\n",
       "      <td>0.464300</td>\n",
       "      <td>0.071300</td>\n",
       "      <td>2022-12-01 04-00</td>\n",
       "    </tr>\n",
       "  </tbody>\n",
       "</table>\n",
       "<p>55287031 rows × 4 columns</p>\n",
       "</div>"
      ],
      "text/plain": [
       "         Site_Id  dltrafficvolume(gb)(gb)  ultrafficvolume(gb)(gb)  \\\n",
       "0         KL5031                 1.429519                 0.329103   \n",
       "1         KL5031                 0.484073                 0.074609   \n",
       "2         KL5031                 0.461909                 0.051542   \n",
       "3         KL5031                 1.916478                 0.265258   \n",
       "4         KL5031                 1.599747                 0.242206   \n",
       "...          ...                      ...                      ...   \n",
       "55287026  GM0836                 0.000000                 0.000000   \n",
       "55287027  PU0023                 0.000000                 0.000000   \n",
       "55287028  PU0023                 0.000000                 0.000000   \n",
       "55287029  CM0193                 0.000000                 0.000000   \n",
       "55287030  JA0131                 0.464300                 0.071300   \n",
       "\n",
       "                  time_key  \n",
       "0         2022-12-26 14-00  \n",
       "1         2022-12-26 14-00  \n",
       "2         2022-12-26 14-00  \n",
       "3         2022-12-26 14-00  \n",
       "4         2022-12-26 14-00  \n",
       "...                    ...  \n",
       "55287026  2022-12-01 04-00  \n",
       "55287027  2022-12-01 04-00  \n",
       "55287028  2022-12-01 04-00  \n",
       "55287029  2022-12-01 04-00  \n",
       "55287030  2022-12-01 04-00  \n",
       "\n",
       "[55287031 rows x 4 columns]"
      ]
     },
     "execution_count": 12,
     "metadata": {},
     "output_type": "execute_result"
    }
   ],
   "source": [
    "all4gcustomhourlyap"
   ]
  },
  {
   "cell_type": "code",
   "execution_count": 13,
   "id": "121683e0",
   "metadata": {},
   "outputs": [],
   "source": [
    "import pandas as pd\n",
    "\n",
    "# Convert the timestamp column to a datetime format\n",
    "all4gcustomhourlyap['time_key'] = pd.to_datetime(all4gcustomhourlyap['time_key'], format='%Y-%m-%d %H:%M:%S')\n",
    "\n",
    "# Convert the timestamp to the timekey format and store it in a new column\n",
    "all4gcustomhourlyap['Time_Key'] = all4gcustomhourlyap['time_key'].dt.strftime('%Y%m%d%H')"
   ]
  },
  {
   "cell_type": "code",
   "execution_count": 14,
   "id": "efb80dfc",
   "metadata": {},
   "outputs": [],
   "source": [
    "all4gcustomhourlyap=all4gcustomhourlyap.drop('time_key',axis=1)"
   ]
  },
  {
   "cell_type": "code",
   "execution_count": 15,
   "id": "26719542",
   "metadata": {},
   "outputs": [
    {
     "data": {
      "text/html": [
       "<div>\n",
       "<style scoped>\n",
       "    .dataframe tbody tr th:only-of-type {\n",
       "        vertical-align: middle;\n",
       "    }\n",
       "\n",
       "    .dataframe tbody tr th {\n",
       "        vertical-align: top;\n",
       "    }\n",
       "\n",
       "    .dataframe thead th {\n",
       "        text-align: right;\n",
       "    }\n",
       "</style>\n",
       "<table border=\"1\" class=\"dataframe\">\n",
       "  <thead>\n",
       "    <tr style=\"text-align: right;\">\n",
       "      <th></th>\n",
       "      <th>Site_Id</th>\n",
       "      <th>dltrafficvolume(gb)(gb)</th>\n",
       "      <th>ultrafficvolume(gb)(gb)</th>\n",
       "      <th>Time_Key</th>\n",
       "    </tr>\n",
       "  </thead>\n",
       "  <tbody>\n",
       "    <tr>\n",
       "      <th>0</th>\n",
       "      <td>KL5031</td>\n",
       "      <td>1.429519</td>\n",
       "      <td>0.329103</td>\n",
       "      <td>2022122614</td>\n",
       "    </tr>\n",
       "    <tr>\n",
       "      <th>1</th>\n",
       "      <td>KL5031</td>\n",
       "      <td>0.484073</td>\n",
       "      <td>0.074609</td>\n",
       "      <td>2022122614</td>\n",
       "    </tr>\n",
       "    <tr>\n",
       "      <th>2</th>\n",
       "      <td>KL5031</td>\n",
       "      <td>0.461909</td>\n",
       "      <td>0.051542</td>\n",
       "      <td>2022122614</td>\n",
       "    </tr>\n",
       "    <tr>\n",
       "      <th>3</th>\n",
       "      <td>KL5031</td>\n",
       "      <td>1.916478</td>\n",
       "      <td>0.265258</td>\n",
       "      <td>2022122614</td>\n",
       "    </tr>\n",
       "    <tr>\n",
       "      <th>4</th>\n",
       "      <td>KL5031</td>\n",
       "      <td>1.599747</td>\n",
       "      <td>0.242206</td>\n",
       "      <td>2022122614</td>\n",
       "    </tr>\n",
       "    <tr>\n",
       "      <th>...</th>\n",
       "      <td>...</td>\n",
       "      <td>...</td>\n",
       "      <td>...</td>\n",
       "      <td>...</td>\n",
       "    </tr>\n",
       "    <tr>\n",
       "      <th>55287026</th>\n",
       "      <td>GM0836</td>\n",
       "      <td>0.000000</td>\n",
       "      <td>0.000000</td>\n",
       "      <td>2022120104</td>\n",
       "    </tr>\n",
       "    <tr>\n",
       "      <th>55287027</th>\n",
       "      <td>PU0023</td>\n",
       "      <td>0.000000</td>\n",
       "      <td>0.000000</td>\n",
       "      <td>2022120104</td>\n",
       "    </tr>\n",
       "    <tr>\n",
       "      <th>55287028</th>\n",
       "      <td>PU0023</td>\n",
       "      <td>0.000000</td>\n",
       "      <td>0.000000</td>\n",
       "      <td>2022120104</td>\n",
       "    </tr>\n",
       "    <tr>\n",
       "      <th>55287029</th>\n",
       "      <td>CM0193</td>\n",
       "      <td>0.000000</td>\n",
       "      <td>0.000000</td>\n",
       "      <td>2022120104</td>\n",
       "    </tr>\n",
       "    <tr>\n",
       "      <th>55287030</th>\n",
       "      <td>JA0131</td>\n",
       "      <td>0.464300</td>\n",
       "      <td>0.071300</td>\n",
       "      <td>2022120104</td>\n",
       "    </tr>\n",
       "  </tbody>\n",
       "</table>\n",
       "<p>55287031 rows × 4 columns</p>\n",
       "</div>"
      ],
      "text/plain": [
       "         Site_Id  dltrafficvolume(gb)(gb)  ultrafficvolume(gb)(gb)    Time_Key\n",
       "0         KL5031                 1.429519                 0.329103  2022122614\n",
       "1         KL5031                 0.484073                 0.074609  2022122614\n",
       "2         KL5031                 0.461909                 0.051542  2022122614\n",
       "3         KL5031                 1.916478                 0.265258  2022122614\n",
       "4         KL5031                 1.599747                 0.242206  2022122614\n",
       "...          ...                      ...                      ...         ...\n",
       "55287026  GM0836                 0.000000                 0.000000  2022120104\n",
       "55287027  PU0023                 0.000000                 0.000000  2022120104\n",
       "55287028  PU0023                 0.000000                 0.000000  2022120104\n",
       "55287029  CM0193                 0.000000                 0.000000  2022120104\n",
       "55287030  JA0131                 0.464300                 0.071300  2022120104\n",
       "\n",
       "[55287031 rows x 4 columns]"
      ]
     },
     "execution_count": 15,
     "metadata": {},
     "output_type": "execute_result"
    }
   ],
   "source": [
    "all4gcustomhourlyap"
   ]
  },
  {
   "cell_type": "code",
   "execution_count": 20,
   "id": "110180b0",
   "metadata": {},
   "outputs": [
    {
     "data": {
      "text/plain": [
       "4747"
      ]
     },
     "execution_count": 20,
     "metadata": {},
     "output_type": "execute_result"
    }
   ],
   "source": [
    "all4gcustomhourlyap['Site_Id'].nunique()"
   ]
  },
  {
   "cell_type": "code",
   "execution_count": 21,
   "id": "1480ce87",
   "metadata": {},
   "outputs": [],
   "source": [
    "all4gcustomhourlyap = all4gcustomhourlyap.groupby(['Site_Id','Time_Key']).sum()\n",
    "all4gcustomhourlyap=all4gcustomhourlyap.reset_index()"
   ]
  },
  {
   "cell_type": "code",
   "execution_count": 22,
   "id": "7df4d87c",
   "metadata": {},
   "outputs": [
    {
     "data": {
      "text/plain": [
       "4747"
      ]
     },
     "execution_count": 22,
     "metadata": {},
     "output_type": "execute_result"
    }
   ],
   "source": [
    "all4gcustomhourlyap['Site_Id'].nunique()"
   ]
  },
  {
   "cell_type": "code",
   "execution_count": 23,
   "id": "dcd0ba12",
   "metadata": {},
   "outputs": [
    {
     "data": {
      "text/html": [
       "<div>\n",
       "<style scoped>\n",
       "    .dataframe tbody tr th:only-of-type {\n",
       "        vertical-align: middle;\n",
       "    }\n",
       "\n",
       "    .dataframe tbody tr th {\n",
       "        vertical-align: top;\n",
       "    }\n",
       "\n",
       "    .dataframe thead th {\n",
       "        text-align: right;\n",
       "    }\n",
       "</style>\n",
       "<table border=\"1\" class=\"dataframe\">\n",
       "  <thead>\n",
       "    <tr style=\"text-align: right;\">\n",
       "      <th></th>\n",
       "      <th>Site_Id</th>\n",
       "      <th>Time_Key</th>\n",
       "      <th>dltrafficvolume(gb)(gb)</th>\n",
       "      <th>ultrafficvolume(gb)(gb)</th>\n",
       "    </tr>\n",
       "  </thead>\n",
       "  <tbody>\n",
       "    <tr>\n",
       "      <th>0</th>\n",
       "      <td>AM0004</td>\n",
       "      <td>2022120100</td>\n",
       "      <td>18.7978</td>\n",
       "      <td>1.5376</td>\n",
       "    </tr>\n",
       "    <tr>\n",
       "      <th>1</th>\n",
       "      <td>AM0004</td>\n",
       "      <td>2022120101</td>\n",
       "      <td>9.9607</td>\n",
       "      <td>0.8118</td>\n",
       "    </tr>\n",
       "    <tr>\n",
       "      <th>2</th>\n",
       "      <td>AM0004</td>\n",
       "      <td>2022120102</td>\n",
       "      <td>7.1119</td>\n",
       "      <td>0.7663</td>\n",
       "    </tr>\n",
       "    <tr>\n",
       "      <th>3</th>\n",
       "      <td>AM0004</td>\n",
       "      <td>2022120103</td>\n",
       "      <td>4.0087</td>\n",
       "      <td>0.6552</td>\n",
       "    </tr>\n",
       "    <tr>\n",
       "      <th>4</th>\n",
       "      <td>AM0004</td>\n",
       "      <td>2022120104</td>\n",
       "      <td>4.7399</td>\n",
       "      <td>0.6803</td>\n",
       "    </tr>\n",
       "    <tr>\n",
       "      <th>...</th>\n",
       "      <td>...</td>\n",
       "      <td>...</td>\n",
       "      <td>...</td>\n",
       "      <td>...</td>\n",
       "    </tr>\n",
       "    <tr>\n",
       "      <th>3431345</th>\n",
       "      <td>VA5034</td>\n",
       "      <td>2022123119</td>\n",
       "      <td>12.3715</td>\n",
       "      <td>1.5716</td>\n",
       "    </tr>\n",
       "    <tr>\n",
       "      <th>3431346</th>\n",
       "      <td>VA5034</td>\n",
       "      <td>2022123120</td>\n",
       "      <td>12.8263</td>\n",
       "      <td>1.9184</td>\n",
       "    </tr>\n",
       "    <tr>\n",
       "      <th>3431347</th>\n",
       "      <td>VA5034</td>\n",
       "      <td>2022123121</td>\n",
       "      <td>12.7316</td>\n",
       "      <td>1.6603</td>\n",
       "    </tr>\n",
       "    <tr>\n",
       "      <th>3431348</th>\n",
       "      <td>VA5034</td>\n",
       "      <td>2022123122</td>\n",
       "      <td>11.7411</td>\n",
       "      <td>1.3846</td>\n",
       "    </tr>\n",
       "    <tr>\n",
       "      <th>3431349</th>\n",
       "      <td>VA5034</td>\n",
       "      <td>2022123123</td>\n",
       "      <td>10.0833</td>\n",
       "      <td>1.1445</td>\n",
       "    </tr>\n",
       "  </tbody>\n",
       "</table>\n",
       "<p>3431350 rows × 4 columns</p>\n",
       "</div>"
      ],
      "text/plain": [
       "        Site_Id    Time_Key  dltrafficvolume(gb)(gb)  ultrafficvolume(gb)(gb)\n",
       "0        AM0004  2022120100                  18.7978                   1.5376\n",
       "1        AM0004  2022120101                   9.9607                   0.8118\n",
       "2        AM0004  2022120102                   7.1119                   0.7663\n",
       "3        AM0004  2022120103                   4.0087                   0.6552\n",
       "4        AM0004  2022120104                   4.7399                   0.6803\n",
       "...         ...         ...                      ...                      ...\n",
       "3431345  VA5034  2022123119                  12.3715                   1.5716\n",
       "3431346  VA5034  2022123120                  12.8263                   1.9184\n",
       "3431347  VA5034  2022123121                  12.7316                   1.6603\n",
       "3431348  VA5034  2022123122                  11.7411                   1.3846\n",
       "3431349  VA5034  2022123123                  10.0833                   1.1445\n",
       "\n",
       "[3431350 rows x 4 columns]"
      ]
     },
     "execution_count": 23,
     "metadata": {},
     "output_type": "execute_result"
    }
   ],
   "source": [
    "all4gcustomhourlyap"
   ]
  },
  {
   "cell_type": "code",
   "execution_count": 24,
   "id": "9eb50aec",
   "metadata": {},
   "outputs": [],
   "source": [
    "all4gcustomhourlyap.to_csv('../data/processed/data_traffic_4g_new.csv')\n",
    "#this is the final file "
   ]
  },
  {
   "cell_type": "code",
   "execution_count": null,
   "id": "5e07f9d2",
   "metadata": {},
   "outputs": [],
   "source": []
  }
 ],
 "metadata": {
  "kernelspec": {
   "display_name": "Python 3 (ipykernel)",
   "language": "python",
   "name": "python3"
  },
  "language_info": {
   "codemirror_mode": {
    "name": "ipython",
    "version": 3
   },
   "file_extension": ".py",
   "mimetype": "text/x-python",
   "name": "python",
   "nbconvert_exporter": "python",
   "pygments_lexer": "ipython3",
   "version": "3.9.7"
  }
 },
 "nbformat": 4,
 "nbformat_minor": 5
}
